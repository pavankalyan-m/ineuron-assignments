{
 "cells": [
  {
   "cell_type": "code",
   "execution_count": 20,
   "metadata": {},
   "outputs": [
    {
     "name": "stdout",
     "output_type": "stream",
     "text": [
      "3\n",
      "4\n",
      "5\n",
      "6.0\n"
     ]
    }
   ],
   "source": [
    "class area:\n",
    "    def __init__(self):\n",
    "        self.a=int(input())\n",
    "        self.b=int(input())\n",
    "        self.c=int(input())\n",
    "        self.s=(self.a+self.b+self.c)/2\n",
    "class subarea(area):\n",
    "    def calc(self):\n",
    "        print((self.s*(self.s-self.a)*(self.s-self.b)*(self.s-self.c))**0.5)\n",
    "b=subarea()\n",
    "b.calc()"
   ]
  },
  {
   "cell_type": "code",
   "execution_count": 48,
   "metadata": {},
   "outputs": [
    {
     "name": "stdout",
     "output_type": "stream",
     "text": [
      "pavan kalyan reddy naveeeeen cse\n",
      "5\n",
      "['kalyan', 'naveeeeen']\n"
     ]
    }
   ],
   "source": [
    "def filter_long_words(k,n):\n",
    "        for i in k:\n",
    "            if len(i)>n:\n",
    "                yield i\n",
    "a=list(map(str,input().split()))\n",
    "n=int(input())\n",
    "print(list(filter_long_words(a,n)))"
   ]
  },
  {
   "cell_type": "code",
   "execution_count": 51,
   "metadata": {},
   "outputs": [
    {
     "name": "stdout",
     "output_type": "stream",
     "text": [
      "pavan kalyan vikas ariz \n",
      "[5, 6, 5, 4]\n"
     ]
    }
   ],
   "source": [
    "def func(k):\n",
    "    for i in k:\n",
    "        yield len(i)\n",
    "a=list(map(str,input().split()))\n",
    "print(list(func(a)))"
   ]
  },
  {
   "cell_type": "code",
   "execution_count": 54,
   "metadata": {},
   "outputs": [
    {
     "name": "stdout",
     "output_type": "stream",
     "text": [
      "a\n"
     ]
    },
    {
     "data": {
      "text/plain": [
       "True"
      ]
     },
     "execution_count": 54,
     "metadata": {},
     "output_type": "execute_result"
    }
   ],
   "source": [
    "def vowel(k):\n",
    "    a=['a','e','i','o','u','A','E','I','O','U']\n",
    "    if k in a:\n",
    "        return True\n",
    "    else:\n",
    "        return False\n",
    "vowel(input())"
   ]
  }
 ],
 "metadata": {
  "kernelspec": {
   "display_name": "Python 3",
   "language": "python",
   "name": "python3"
  },
  "language_info": {
   "codemirror_mode": {
    "name": "ipython",
    "version": 3
   },
   "file_extension": ".py",
   "mimetype": "text/x-python",
   "name": "python",
   "nbconvert_exporter": "python",
   "pygments_lexer": "ipython3",
   "version": "3.8.3"
  }
 },
 "nbformat": 4,
 "nbformat_minor": 4
}
